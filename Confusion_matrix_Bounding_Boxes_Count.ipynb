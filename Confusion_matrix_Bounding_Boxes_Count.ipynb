{
 "cells": [
  {
   "cell_type": "markdown",
   "metadata": {},
   "source": [
    "## Confusion matrix of bounding boxes count"
   ]
  },
  {
   "cell_type": "code",
   "execution_count": 82,
   "metadata": {
    "collapsed": true
   },
   "outputs": [],
   "source": [
    "import pandas as pd\n",
    "import numpy as np\n",
    "import matplotlib.pyplot as plt\n",
    "%matplotlib inline\n",
    "\n",
    "from sklearn.metrics import confusion_matrix, classification_report\n",
    "\n",
    "import warnings\n",
    "warnings.filterwarnings('ignore')"
   ]
  },
  {
   "cell_type": "code",
   "execution_count": 45,
   "metadata": {},
   "outputs": [
    {
     "data": {
      "text/plain": [
       "['train_labels.csv',\n",
       " 'test_labels.csv',\n",
       " 'train.record',\n",
       " 'object-detection.pbtxt',\n",
       " 'test.record',\n",
       " 'validation_labels.csv']"
      ]
     },
     "execution_count": 45,
     "metadata": {},
     "output_type": "execute_result"
    }
   ],
   "source": [
    "os.listdir(\"./images/data\")"
   ]
  },
  {
   "cell_type": "code",
   "execution_count": 46,
   "metadata": {},
   "outputs": [],
   "source": [
    "ssd_bnd_boxes = pd.read_csv(\"./outputs/ssd_mobile_bounding_boxes_count.csv\").sort_values(by=\"img_name\", ascending=True)\n",
    "fast_rcnn_bnd_boxes = pd.read_csv(\"./outputs/faster_rcnn_bounding_boxes_count.csv\").sort_values(by=\"img_name\", ascending=True)"
   ]
  },
  {
   "cell_type": "code",
   "execution_count": 57,
   "metadata": {
    "collapsed": true
   },
   "outputs": [],
   "source": [
    "validation_bnd_boxes = pd.read_csv(\"./images/data/validation_labels.csv\")\n",
    "validation_bnd_boxes = validation_bnd_boxes.groupby(\"filename\")[\"height\"].count().reset_index().sort_values(by=\"filename\", ascending=True)\n",
    "validation_bnd_boxes.columns = [\"img_name\",\"bnd_bx_count\"]"
   ]
  },
  {
   "cell_type": "code",
   "execution_count": 58,
   "metadata": {},
   "outputs": [],
   "source": [
    "ssd_bnd_boxes = ssd_bnd_boxes[ssd_bnd_boxes[\"img_name\"].isin(validation_bnd_boxes[\"img_name\"])]\n",
    "fast_rcnn_bnd_boxes = fast_rcnn_bnd_boxes[fast_rcnn_bnd_boxes[\"img_name\"].isin(validation_bnd_boxes[\"img_name\"])]"
   ]
  },
  {
   "cell_type": "code",
   "execution_count": 61,
   "metadata": {},
   "outputs": [],
   "source": [
    "ssd_conf_mat = confusion_matrix(validation_bnd_boxes[\"bnd_bx_count\"], ssd_bnd_boxes[\"bnd_bx_count\"])\n",
    "fastrcnn_conf_mat = confusion_matrix(validation_bnd_boxes[\"bnd_bx_count\"], fast_rcnn_bnd_boxes[\"bnd_bx_count\"])"
   ]
  },
  {
   "cell_type": "markdown",
   "metadata": {},
   "source": [
    "### SSD Mobile Conf Matrix"
   ]
  },
  {
   "cell_type": "code",
   "execution_count": 90,
   "metadata": {},
   "outputs": [
    {
     "data": {
      "image/png": "[encoded data removed]",
      "text/plain": [
       "<matplotlib.figure.Figure at 0x11186c588>"
      ]
     },
     "metadata": {},
     "output_type": "display_data"
    }
   ],
   "source": [
    "plt.imshow(ssd_conf_mat, interpolation=\"nearest\")\n",
    "plt.title(\"Confustion Matrix for SSD Mobile\")\n",
    "plt.colorbar()\n",
    "ticks = np.arange(7)\n",
    "plt.xticks(ticks, ticks)\n",
    "plt.yticks(ticks, ticks)\n",
    "plt.ylabel(\"Actual Bounding box count\")\n",
    "plt.xlabel(\"Predicted Bounding box count\")\n",
    "\n",
    "plt.show()"
   ]
  },
  {
   "cell_type": "code",
   "execution_count": 91,
   "metadata": {},
   "outputs": [
    {
     "data": {
      "text/plain": [
       "array([[  0,   0,   0,   0,   0,   0,   0,   0],\n",
       "       [  0, 109,  41,   2,   0,   0,   0,   0],\n",
       "       [  0,   9,  11,   2,   1,   0,   0,   0],\n",
       "       [  0,   4,   1,   0,   0,   0,   0,   0],\n",
       "       [  1,   4,   0,   0,   0,   0,   0,   0],\n",
       "       [  0,   1,   1,   0,   0,   0,   0,   0],\n",
       "       [  0,   1,   0,   1,   0,   0,   0,   0],\n",
       "       [  0,   0,   1,   0,   0,   0,   0,   0]])"
      ]
     },
     "execution_count": 91,
     "metadata": {},
     "output_type": "execute_result"
    }
   ],
   "source": [
    "ssd_conf_mat"
   ]
  },
  {
   "cell_type": "code",
   "execution_count": 93,
   "metadata": {},
   "outputs": [
    {
     "name": "stdout",
     "output_type": "stream",
     "text": [
      "SSD Mobile Correct:  120\n",
      "SSD Mobile Correct:  70\n"
     ]
    }
   ],
   "source": [
    "correct = 109 + 11 # from diagonal\n",
    "wrong = sum(sum(ssd_conf_mat)) - correct\n",
    "\n",
    "print(\"SSD Mobile correct: \", correct)\n",
    "print(\"SSD Mobile incorrect: \", wrong)"
   ]
  },
  {
   "cell_type": "markdown",
   "metadata": {},
   "source": [
    "### Faster RCNN Inception V2 Conf Matrix"
   ]
  },
  {
   "cell_type": "code",
   "execution_count": 84,
   "metadata": {},
   "outputs": [
    {
     "data": {
      "image/png": "[encoded data removed]",
      "text/plain": [
       "<matplotlib.figure.Figure at 0x1119d7208>"
      ]
     },
     "metadata": {},
     "output_type": "display_data"
    }
   ],
   "source": [
    "plt.imshow(fastrcnn_conf_mat, interpolation=\"nearest\")#, cmap=plt.cm.gray)\n",
    "plt.title(\"Confustion Matrix for Faster RCNN Inception v2\")\n",
    "plt.colorbar()\n",
    "ticks = np.arange(7)\n",
    "plt.xticks(ticks, ticks)\n",
    "plt.yticks(ticks, ticks)\n",
    "plt.ylabel(\"Actual Bounding box count\")\n",
    "plt.xlabel(\"Predicted Bounding box count\")\n",
    "\n",
    "plt.show()"
   ]
  },
  {
   "cell_type": "code",
   "execution_count": 86,
   "metadata": {},
   "outputs": [
    {
     "data": {
      "text/plain": [
       "array([[ 0,  0,  0,  0,  0,  0,  0,  0],\n",
       "       [ 8, 85, 42, 11,  4,  2,  0,  0],\n",
       "       [ 3,  4,  8,  6,  1,  1,  0,  0],\n",
       "       [ 1,  1,  1,  2,  0,  0,  0,  0],\n",
       "       [ 1,  3,  1,  0,  0,  0,  0,  0],\n",
       "       [ 0,  1,  1,  0,  0,  0,  0,  0],\n",
       "       [ 0,  0,  2,  0,  0,  0,  0,  0],\n",
       "       [ 0,  1,  0,  0,  0,  0,  0,  0]])"
      ]
     },
     "execution_count": 86,
     "metadata": {},
     "output_type": "execute_result"
    }
   ],
   "source": [
    "fastrcnn_conf_mat"
   ]
  },
  {
   "cell_type": "code",
   "execution_count": 89,
   "metadata": {},
   "outputs": [
    {
     "name": "stdout",
     "output_type": "stream",
     "text": [
      "Faster RCNN Correct:  95\n",
      "Faster RCNN Correct:  95\n"
     ]
    }
   ],
   "source": [
    "correct = 85 + 8 + 2# from diagonal\n",
    "wrong = sum(sum(fastrcnn_conf_mat)) - correct\n",
    "\n",
    "print(\"Faster RCNN correct: \", correct)\n",
    "print(\"Faster RCNN incorrect: \", wrong)"
   ]
  },
  {
   "cell_type": "code",
   "execution_count": null,
   "metadata": {
    "collapsed": true
   },
   "outputs": [],
   "source": []
  }
 ],
 "metadata": {
  "kernelspec": {
   "display_name": "Python [default]",
   "language": "python",
   "name": "python3"
  },
  "language_info": {
   "codemirror_mode": {
    "name": "ipython",
    "version": 3
   },
   "file_extension": ".py",
   "mimetype": "text/x-python",
   "name": "python",
   "nbconvert_exporter": "python",
   "pygments_lexer": "ipython3",
   "version": "3.5.4"
  }
 },
 "nbformat": 4,
 "nbformat_minor": 2
}
